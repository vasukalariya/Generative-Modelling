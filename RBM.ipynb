{
 "cells": [
  {
   "cell_type": "code",
   "execution_count": 18,
   "metadata": {
    "colab": {},
    "colab_type": "code",
    "id": "GxJD4DrbpX5U"
   },
   "outputs": [],
   "source": [
    "import numpy as np\n",
    "import matplotlib.pyplot as plt"
   ]
  },
  {
   "cell_type": "code",
   "execution_count": 19,
   "metadata": {
    "colab": {},
    "colab_type": "code",
    "id": "-RDT3OuArV62"
   },
   "outputs": [],
   "source": [
    "data = np.load(\"train_images.npy\")"
   ]
  },
  {
   "cell_type": "code",
   "execution_count": 48,
   "metadata": {
    "colab": {},
    "colab_type": "code",
    "id": "iHCi3KTdtJpr"
   },
   "outputs": [],
   "source": [
    "class RBM():\n",
    "  \n",
    "  def __init__(self, v_size=784, h_size=256, k=1, lr=0.1):\n",
    "    super(RBM, self).__init__()\n",
    "    self.v = np.random.randn(1, v_size)\n",
    "    self.h = np.random.randn(1, h_size)\n",
    "    self.W = np.random.randn(h_size, v_size)\n",
    "    self.v_bias = np.zeros((1, v_size))\n",
    "    self.h_bias = np.zeros((1, h_size))\n",
    "    self.k = k\n",
    "    self.lr = lr\n",
    "\n",
    "  def sigmoid(self, x):\n",
    "    return 1./(1 + np.exp(-x))\n",
    "\n",
    "  def sample_h_given_v(self, vis):\n",
    "    htensor = np.matmul(vis, self.W.T) + self.h_bias\n",
    "    activation = self.sigmoid(htensor)\n",
    "    sampled_h = np.random.binomial(size=activation.shape, n = 1, p = activation)\n",
    "\n",
    "    return activation, sampled_h\n",
    "\n",
    "  def sample_v_given_h(self, hid):\n",
    "    vtensor = np.matmul(hid, self.W) + self.v_bias\n",
    "    activation = self.sigmoid(vtensor)\n",
    "    sampled_v = np.random.binomial(size=activation.shape, n = 1, p = activation)\n",
    "    \n",
    "\n",
    "    return activation, sampled_v\n",
    "\n",
    "  def energy(self, vis):\n",
    "    hidden = self.sample_h_given_v(vis)\n",
    "    val = np.matmul(vis, self.v_bias.T) + np.matmul(hidden, self.h_bias.T) + np.matmul(np.matmul(hidden, self.W), vis.T)\n",
    "    \n",
    "    return -val\n",
    "\n",
    "  def contrastive_divergence(self,input_data):\n",
    "    for i in range(self.k):\n",
    "      pre_h, sample_h = self.sample_h_given_v(input_data)\n",
    "      pre_v, sample_v = self.sample_v_given_h(sample_h)\n",
    "\n",
    "      pre_h_tilde, sample_h_tilde = self.sample_h_given_v(pre_v)\n",
    "\n",
    "    self.W += self.lr * (np.matmul(pre_h.T, input_data) - np.matmul(pre_h_tilde.T, pre_v))\n",
    "    self.v_bias += self.lr * (input_data - pre_v)\n",
    "    self.h_bias += self.lr*(pre_h - pre_h_tilde)\n",
    "    \n",
    "    return pre_v\n",
    "\n",
    "  def train(self, data):\n",
    "    for i,image in enumerate(data):\n",
    "      image = image/255\n",
    "      image = np.reshape(image,(1,784))\n",
    "      _ = self.contrastive_divergence(image)\n",
    "      if i%1000 == 0:\n",
    "        print(i)\n",
    "        print(self.energy(image))\n",
    "  \n",
    "  def reconstruct(self, test_img):\n",
    "    for i in range(self.k):\n",
    "      pre_h, sample_h = self.sample_h_given_v(test_img)\n",
    "      pre_v, sample_v = self.sample_v_given_h(sample_h)\n",
    "\n",
    "    return sample_v"
   ]
  },
  {
   "cell_type": "code",
   "execution_count": 49,
   "metadata": {
    "colab": {
     "base_uri": "https://localhost:8080/",
     "height": 1000
    },
    "colab_type": "code",
    "executionInfo": {
     "elapsed": 5966,
     "status": "ok",
     "timestamp": 1586094824013,
     "user": {
      "displayName": "Vasu Kalariya",
      "photoUrl": "",
      "userId": "14799486405537622209"
     },
     "user_tz": -330
    },
    "id": "OhApvubhEaWf",
    "outputId": "e479a6ff-1410-4cea-ef44-bf431097d744"
   },
   "outputs": [
    {
     "name": "stdout",
     "output_type": "stream",
     "text": [
      "0\n",
      "[[[-1149.09803372]]\n",
      "\n",
      " [[-1150.80280888]]]\n",
      "1000\n",
      "[[[-137.0782676 ]]\n",
      "\n",
      " [[-138.96943119]]]\n",
      "2000\n",
      "[[[-107.1732173 ]]\n",
      "\n",
      " [[-106.22934822]]]\n",
      "3000\n",
      "[[[-83.60007045]]\n",
      "\n",
      " [[-84.32483307]]]\n",
      "4000\n",
      "[[[-158.15563667]]\n",
      "\n",
      " [[-158.79962296]]]\n",
      "5000\n",
      "[[[-69.76138471]]\n",
      "\n",
      " [[-70.49631002]]]\n",
      "6000\n",
      "[[[-187.10644284]]\n",
      "\n",
      " [[-188.11641056]]]\n",
      "7000\n",
      "[[[-126.60182637]]\n",
      "\n",
      " [[-125.25539419]]]\n",
      "8000\n",
      "[[[-158.30002878]]\n",
      "\n",
      " [[-158.3765127 ]]]\n",
      "9000\n",
      "[[[-53.68824261]]\n",
      "\n",
      " [[-53.98663327]]]\n",
      "10000\n",
      "[[[-118.4991232 ]]\n",
      "\n",
      " [[-118.74246505]]]\n",
      "11000\n",
      "[[[-200.38291156]]\n",
      "\n",
      " [[-200.81374474]]]\n",
      "12000\n",
      "[[[-153.95642556]]\n",
      "\n",
      " [[-153.52852304]]]\n",
      "13000\n",
      "[[[-110.52343257]]\n",
      "\n",
      " [[-109.81802913]]]\n",
      "14000\n",
      "[[[-161.50519697]]\n",
      "\n",
      " [[-162.12850909]]]\n",
      "15000\n",
      "[[[ -99.50386856]]\n",
      "\n",
      " [[-100.45992993]]]\n",
      "16000\n",
      "[[[-154.02757356]]\n",
      "\n",
      " [[-154.35138673]]]\n",
      "17000\n",
      "[[[-100.67074036]]\n",
      "\n",
      " [[-100.71600881]]]\n",
      "18000\n",
      "[[[-126.07805198]]\n",
      "\n",
      " [[-126.20221259]]]\n",
      "19000\n",
      "[[[-101.10945857]]\n",
      "\n",
      " [[-102.48937758]]]\n"
     ]
    }
   ],
   "source": [
    "rbm = RBM()\n",
    "rbm.train(data[:20000])"
   ]
  },
  {
   "cell_type": "code",
   "execution_count": 50,
   "metadata": {
    "colab": {
     "base_uri": "https://localhost:8080/",
     "height": 34
    },
    "colab_type": "code",
    "executionInfo": {
     "elapsed": 2033,
     "status": "ok",
     "timestamp": 1586094857140,
     "user": {
      "displayName": "Vasu Kalariya",
      "photoUrl": "",
      "userId": "14799486405537622209"
     },
     "user_tz": -330
    },
    "id": "Sqi2VrUHP77A",
    "outputId": "663fb261-0636-4836-dbb9-6cae97cc33e3"
   },
   "outputs": [
    {
     "data": {
      "text/plain": [
       "(1, 784)"
      ]
     },
     "execution_count": 50,
     "metadata": {},
     "output_type": "execute_result"
    }
   ],
   "source": [
    "b = data[1000]\n",
    "b = b.reshape(1,784)\n",
    "b.shape"
   ]
  },
  {
   "cell_type": "code",
   "execution_count": 51,
   "metadata": {
    "colab": {
     "base_uri": "https://localhost:8080/",
     "height": 282
    },
    "colab_type": "code",
    "executionInfo": {
     "elapsed": 19078,
     "status": "ok",
     "timestamp": 1586094879540,
     "user": {
      "displayName": "Vasu Kalariya",
      "photoUrl": "",
      "userId": "14799486405537622209"
     },
     "user_tz": -330
    },
    "id": "UDDQj8ioPDim",
    "outputId": "8293a3fb-4b95-4d32-fb5c-c8d53a9f3ba3"
   },
   "outputs": [
    {
     "data": {
      "text/plain": [
       "<matplotlib.image.AxesImage at 0x265452c7198>"
      ]
     },
     "execution_count": 51,
     "metadata": {},
     "output_type": "execute_result"
    },
    {
     "data": {
      "image/png": "[encoded data removed]",
      "text/plain": [
       "<Figure size 432x288 with 1 Axes>"
      ]
     },
     "metadata": {
      "needs_background": "light"
     },
     "output_type": "display_data"
    }
   ],
   "source": [
    "plt.imshow(np.reshape(b,(28,28)),cmap='gray')"
   ]
  },
  {
   "cell_type": "code",
   "execution_count": 52,
   "metadata": {
    "colab": {
     "base_uri": "https://localhost:8080/",
     "height": 315
    },
    "colab_type": "code",
    "executionInfo": {
     "elapsed": 1968,
     "status": "ok",
     "timestamp": 1586094886026,
     "user": {
      "displayName": "Vasu Kalariya",
      "photoUrl": "",
      "userId": "14799486405537622209"
     },
     "user_tz": -330
    },
    "id": "s80GRoGqPML7",
    "outputId": "ffcc7d91-1f18-4fec-c176-9b72300c613f"
   },
   "outputs": [
    {
     "name": "stderr",
     "output_type": "stream",
     "text": [
      "C:\\Users\\vasuk\\AppData\\Roaming\\Python\\Python36\\site-packages\\ipykernel_launcher.py:14: RuntimeWarning: overflow encountered in exp\n",
      "  \n"
     ]
    },
    {
     "data": {
      "text/plain": [
       "<matplotlib.image.AxesImage at 0x265457d5f60>"
      ]
     },
     "execution_count": 52,
     "metadata": {},
     "output_type": "execute_result"
    },
    {
     "data": {
      "image/png": "[encoded data removed]",
      "text/plain": [
       "<Figure size 432x288 with 1 Axes>"
      ]
     },
     "metadata": {
      "needs_background": "light"
     },
     "output_type": "display_data"
    }
   ],
   "source": [
    "new_b = rbm.reconstruct(b)\n",
    "plt.imshow(np.reshape(new_b,(28,28)),cmap='gray')"
   ]
  },
  {
   "cell_type": "code",
   "execution_count": 53,
   "metadata": {
    "colab": {
     "base_uri": "https://localhost:8080/",
     "height": 282
    },
    "colab_type": "code",
    "executionInfo": {
     "elapsed": 52579,
     "status": "ok",
     "timestamp": 1586095132441,
     "user": {
      "displayName": "Vasu Kalariya",
      "photoUrl": "",
      "userId": "14799486405537622209"
     },
     "user_tz": -330
    },
    "id": "Bu3LapvvPVJR",
    "outputId": "e9012ed8-d188-46af-af75-11975459981d"
   },
   "outputs": [
    {
     "data": {
      "text/plain": [
       "<matplotlib.image.AxesImage at 0x26545335358>"
      ]
     },
     "execution_count": 53,
     "metadata": {},
     "output_type": "execute_result"
    },
    {
     "data": {
      "image/png": "[encoded data removed]",
      "text/plain": [
       "<Figure size 432x288 with 1 Axes>"
      ]
     },
     "metadata": {
      "needs_background": "light"
     },
     "output_type": "display_data"
    }
   ],
   "source": [
    "c = data[1004]\n",
    "c = c.reshape(1,784)\n",
    "c.shape\n",
    "plt.imshow(np.reshape(c,(28,28)),cmap='gray')"
   ]
  },
  {
   "cell_type": "code",
   "execution_count": 54,
   "metadata": {
    "colab": {},
    "colab_type": "code",
    "id": "aVopsAL7oE02"
   },
   "outputs": [
    {
     "name": "stderr",
     "output_type": "stream",
     "text": [
      "C:\\Users\\vasuk\\AppData\\Roaming\\Python\\Python36\\site-packages\\ipykernel_launcher.py:14: RuntimeWarning: overflow encountered in exp\n",
      "  \n"
     ]
    },
    {
     "data": {
      "text/plain": [
       "<matplotlib.image.AxesImage at 0x26545386f28>"
      ]
     },
     "execution_count": 54,
     "metadata": {},
     "output_type": "execute_result"
    },
    {
     "data": {
      "image/png": "[encoded data removed]",
      "text/plain": [
       "<Figure size 432x288 with 1 Axes>"
      ]
     },
     "metadata": {
      "needs_background": "light"
     },
     "output_type": "display_data"
    }
   ],
   "source": [
    "new_c = rbm.reconstruct(c)\n",
    "plt.imshow(np.reshape(new_c,(28,28)),cmap='gray')"
   ]
  },
  {
   "cell_type": "code",
   "execution_count": 55,
   "metadata": {},
   "outputs": [
    {
     "data": {
      "text/plain": [
       "<matplotlib.image.AxesImage at 0x265453eb278>"
      ]
     },
     "execution_count": 55,
     "metadata": {},
     "output_type": "execute_result"
    },
    {
     "data": {
      "image/png": "[encoded data removed]",
      "text/plain": [
       "<Figure size 432x288 with 1 Axes>"
      ]
     },
     "metadata": {
      "needs_background": "light"
     },
     "output_type": "display_data"
    }
   ],
   "source": [
    "b = data[1000]\n",
    "b = b.reshape(1,784)\n",
    "b.shape\n",
    "plt.imshow(np.reshape(b,(28,28)),cmap='gray')"
   ]
  },
  {
   "cell_type": "code",
   "execution_count": 56,
   "metadata": {},
   "outputs": [
    {
     "data": {
      "text/plain": [
       "array([[  0,   0,   0,   0,   0,   0,   0,   0,   0,   0,   0,   0,   0,\n",
       "          0,   0,   0,   0,   0,   0,   0,   0,   0,   0,   0,   0,   0,\n",
       "          0,   0,   0,   0,   0,   0,   0,   0,   0,   0,   0,   0,   0,\n",
       "          0,   0,   0,   0,   0,   0,   0,   0,   0,   0,   0,   0,   0,\n",
       "          0,   0,   0,   0,   0,   0,   0,   0,   0,   0,   0,   0,   0,\n",
       "          0,   0,   0,   0,   0,   0,   0,   0,   0,   0,   0,   0,   0,\n",
       "          0,   0,   0,   0,   0,   0,   0,   0,   0,   0,   0,   0,   0,\n",
       "          0,   0,   0,   0,   0,   0,   0,   0,   0,   0,   0,   0,   0,\n",
       "          0,   0,   0,   0,   0,   0,   0,   0,   0,   0,   0,   0,   0,\n",
       "          0,   0,   0,   0,   0,   0,   0,   0,   0,   0,   0,   0,   0,\n",
       "          0,   0,   0,   0,   0,   0,   0,   0,   0,   0,   0,   0,   0,\n",
       "          0,   0,   0,   0,   0,   0,   0,   0,   0,   0,   0,  36, 146,\n",
       "        254, 255, 251,  95,   6,   0,   0,   0,   0,   0,   0,   0,   0,\n",
       "          0,   0,   0,   0,   0,   0,   0,   0,   0,   0,   0,   3,  97,\n",
       "        234, 254, 254, 232, 254, 254,  35,   0,   0,   0,   0,   0,   0,\n",
       "          0,   0,   0,   0,   0,   0,   0,   0,   0,   0,   0,   0,  89,\n",
       "        140, 254, 254, 174,  67,  33, 200, 254, 190,   0,   0,   0,   0,\n",
       "          0,   0,   0,   0,   0,   0,   0,   0,   0,   0,   0,   0,   0,\n",
       "        108, 253, 254, 235,  51,   1,   0,   0,  12, 254, 253,  56,   0,\n",
       "          0,   0,   0,   0,   0,   0,   0,   0,   0,   0,   0,   0,   0,\n",
       "          0,  12, 216, 254, 244,  55,   0,   0,   0,   0,   6, 213, 254,\n",
       "         57,   0,   0,   0,   0,   0,   0,   0,   0,   0,   0,   0,   0,\n",
       "          0,   0,   0,  25, 254, 254, 132,   0,   0,   0,   0,   0,   0,\n",
       "        168, 254,  57,   0,   0,   0,   0,   0,   0,   0,   0,   0,   0,\n",
       "          0,   0,   0,   0,   0,  45, 254, 243,  34,   0,   0,   0,   0,\n",
       "          0,   0, 168, 254,  57,   0,   0,   0,   0,   0,   0,   0,   0,\n",
       "          0,   0,   0,   0,   0,   0,   0, 128, 254, 157,   0,   0,   0,\n",
       "          0,   0,   0,   0, 168, 254,  57,   0,   0,   0,   0,   0,   0,\n",
       "          0,   0,   0,   0,   0,   0,   0,   0,  19, 228, 254, 105,   0,\n",
       "          0,   0,   0,   0,   0,   7, 228, 254,  57,   0,   0,   0,   0,\n",
       "          0,   0,   0,   0,   0,   0,   0,   0,   0,   0,  58, 254, 254,\n",
       "         87,   0,   0,   0,   0,   0,   0,  10, 254, 246,  47,   0,   0,\n",
       "          0,   0,   0,   0,   0,   0,   0,   0,   0,   0,   0,   0,  58,\n",
       "        254, 254,   9,   0,   0,   0,   0,   0,   0,  10, 254, 210,   0,\n",
       "          0,   0,   0,   0,   0,   0,   0,   0,   0,   0,   0,   0,   0,\n",
       "          0,  58, 254, 254,   9,   0,   0,   0,   0,   0,   0, 105, 254,\n",
       "         91,   0,   0,   0,   0,   0,   0,   0,   0,   0,   0,   0,   0,\n",
       "          0,   0,   0,   5, 219, 254,   9,   0,   0,   0,   0,   0,  24,\n",
       "        230, 254,  24,   0,   0,   0,   0,   0,   0,   0,   0,   0,   0,\n",
       "          0,   0,   0,   0,   0,   0, 216, 254,   9,   0,   0,   0,   0,\n",
       "          0,  84, 254, 251,  23,   0,   0,   0,   0,   0,   0,   0,   0,\n",
       "          0,   0,   0,   0,   0,   0,   0,   0, 216, 254,  36,   0,   0,\n",
       "          0,   0,  22, 208, 251,  94,   0,   0,   0,   0,   0,   0,   0,\n",
       "          0,   0,   0,   0,   0,   0,   0,   0,   0,   0, 129, 254, 120,\n",
       "          0,   0,   0,   3, 140, 254, 229,   0,   0,   0,   0,   0,   0,\n",
       "          0,   0,   0,   0,   0,   0,   0,   0,   0,   0,   0,   0,  83,\n",
       "        254, 222,  17,   0,   0,  91, 254, 236,  53,   0,   0,   0,   0,\n",
       "          0,   0,   0,   0,   0,   0,   0,   0,   0,   0,   0,   0,   0,\n",
       "          0,  18, 235, 254, 134,  21, 119, 237, 254, 124,   0,   0,   0,\n",
       "          0,   0,   0,   0,   0,   0,   0,   0,   0,   0,   0,   0,   0,\n",
       "          0,   0,   0,   0,  53, 249, 254, 234, 252, 254, 172,   3,   0,\n",
       "          0,   0,   0,   0,   0,   0,   0,   0,   0,   0,   0,   0,   0,\n",
       "          0,   0,   0,   0,   0,   0,   0, 116, 237, 254, 254, 133,  20,\n",
       "          0,   0,   0,   0,   0,   0,   0,   0,   0,   0,   0,   0,   0,\n",
       "          0,   0,   0,   0,   0,   0,   0,   0,   0,   0,   0,   0,   0,\n",
       "          0,   0,   0,   0,   0,   0,   0,   0,   0,   0,   0,   0,   0,\n",
       "          0,   0,   0,   0,   0,   0,   0,   0,   0,   0,   0,   0,   0,\n",
       "          0,   0,   0,   0,   0,   0,   0,   0,   0,   0,   0,   0,   0,\n",
       "          0,   0,   0,   0,   0,   0,   0,   0,   0,   0,   0,   0,   0,\n",
       "          0,   0,   0,   0,   0,   0,   0,   0,   0,   0,   0,   0,   0,\n",
       "          0,   0,   0,   0]], dtype=uint8)"
      ]
     },
     "execution_count": 56,
     "metadata": {},
     "output_type": "execute_result"
    }
   ],
   "source": [
    "b"
   ]
  },
  {
   "cell_type": "code",
   "execution_count": 57,
   "metadata": {},
   "outputs": [],
   "source": [
    "clip_b = [[  0,   0,   0,   0,   0,   0,   0,   0,   0,   0,   0,   0,   0,\n",
    "          0,   0,   0,   0,   0,   0,   0,   0,   0,   0,   0,   0,   0,\n",
    "          0,   0,   0,   0,   0,   0,   0,   0,   0,   0,   0,   0,   0,\n",
    "          0,   0,   0,   0,   0,   0,   0,   0,   0,   0,   0,   0,   0,\n",
    "          0,   0,   0,   0,   0,   0,   0,   0,   0,   0,   0,   0,   0,\n",
    "          0,   0,   0,   0,   0,   0,   0,   0,   0,   0,   0,   0,   0,\n",
    "          0,   0,   0,   0,   0,   0,   0,   0,   0,   0,   0,   0,   0,\n",
    "          0,   0,   0,   0,   0,   0,   0,   0,   0,   0,   0,   0,   0,\n",
    "          0,   0,   0,   0,   0,   0,   0,   0,   0,   0,   0,   0,   0,\n",
    "          0,   0,   0,   0,   0,   0,   0,   0,   0,   0,   0,   0,   0,\n",
    "          0,   0,   0,   0,   0,   0,   0,   0,   0,   0,   0,   0,   0,\n",
    "          0,   0,   0,   0,   0,   0,   0,   0,   0,   0,   0,  36, 146,\n",
    "        254, 255, 251,  95,   6,   0,   0,   0,   0,   0,   0,   0,   0,\n",
    "          0,   0,   0,   0,   0,   0,   0,   0,   0,   0,   0,   3,  97,\n",
    "        234, 254, 254, 232, 254, 254,  35,   0,   0,   0,   0,   0,   0,\n",
    "          0,   0,   0,   0,   0,   0,   0,   0,   0,   0,   0,   0,  89,\n",
    "        140, 254, 254, 174,  67,  33, 200, 254, 190,   0,   0,   0,   0,\n",
    "          0,   0,   0,   0,   0,   0,   0,   0,   0,   0,   0,   0,   0,\n",
    "        108, 253, 254, 235,  51,   1,   0,   0,  12, 254, 253,  56,   0,\n",
    "          0,   0,   0,   0,   0,   0,   0,   0,   0,   0,   0,   0,   0,\n",
    "          0,  12, 216, 254, 244,  55,   0,   0,   0,   0,   6, 213, 254,\n",
    "         57,   0,   0,   0,   0,   0,   0,   0,   0,   0,   0,   0,   0,\n",
    "          0,   0,   0,  25, 254, 254, 132,   0,   0,   0,   0,   0,   0,\n",
    "        168, 254,  57,   0,   0,   0,   0,   0,   0,   0,   0,   0,   0,\n",
    "          0,   0,   0,   0,   0,  45, 254, 243,  34,   0,   0,   0,   0,\n",
    "          0,   0, 168, 254,  57,   0,   0,   0,   0,   0,   0,   0,   0,\n",
    "          0,   0,   0,   0,   0,   0,   0, 128, 254, 157,   0,   0,   0,\n",
    "          0,   0,   0,   0, 168, 254,  57,   0,   0,   0,   0,   0,   0,\n",
    "          0,   0,   0,   0,   0,   0,   0,   0,  19, 228, 254, 105,   0,\n",
    "          0,   0,   0,   0,   0,   7, 0, 0,  57,   0,   0,   0,   0,\n",
    "          0,   0,   0,   0,   0,   0,   0,   0,   0,   0,  58, 254, 254,\n",
    "         87,   0,   0,   0,   0,   0,   0,  10, 0, 0,  47,   0,   0,\n",
    "          0,   0,   0,   0,   0,   0,   0,   0,   0,   0,   0,   0,  58,\n",
    "        0, 0,   9,   0,   0,   0,   0,   0,   0,  10, 0, 210,   0,\n",
    "          0,   0,   0,   0,   0,   0,   0,   0,   0,   0,   0,   0,   0,\n",
    "          0,  58, 0, 0,   9,   0,   0,   0,   0,   0,   0, 105, 0,\n",
    "         91,   0,   0,   0,   0,   0,   0,   0,   0,   0,   0,   0,   0,\n",
    "          0,   0,   0,   5, 0, 0,   9,   0,   0,   0,   0,   0,  24,\n",
    "        0, 0,  24,   0,   0,   0,   0,   0,   0,   0,   0,   0,   0,\n",
    "          0,   0,   0,   0,   0,   0, 0, 0,   9,   0,   0,   0,   0,\n",
    "          0,  84, 0, 0,  23,   0,   0,   0,   0,   0,   0,   0,   0,\n",
    "          0,   0,   0,   0,   0,   0,   0,   0, 0, 0,  36,   0,   0,\n",
    "          0,   0,  0, 0, 0,  0,   0,   0,   0,   0,   0,   0,   0,\n",
    "          0,   0,   0,   0,   0,   0,   0,   0,   0,   0, 0, 0, 0,\n",
    "          0,   0,   0,   0, 0, 0, 0,   0,   0,   0,   0,   0,   0,\n",
    "          0,   0,   0,   0,   0,   0,   0,   0,   0,   0,   0,   0,  0,\n",
    "        0, 0,  0,   0,   0,  0, 0, 0,  0,   0,   0,   0,   0,\n",
    "          0,   0,   0,   0,   0,   0,   0,   0,   0,   0,   0,   0,   0,\n",
    "          0,  0, 0, 0, 0,  0, 0, 0, 0, 0,   0,   0,   0,\n",
    "          0,   0,   0,   0,   0,   0,   0,   0,   0,   0,   0,   0,   0,\n",
    "          0,   0,   0,   0,  0, 0, 0, 0, 0, 0, 0,   0,   0,\n",
    "          0,   0,   0,   0,   0,   0,   0,   0,   0,   0,   0,   0,   0,\n",
    "          0,   0,   0,   0,   0,   0,   0, 0, 0, 0, 0, 0,  0,\n",
    "          0,   0,   0,   0,   0,   0,   0,   0,   0,   0,   0,   0,   0,\n",
    "          0,   0,   0,   0,   0,   0,   0,   0,   0,   0,   0,   0,   0,\n",
    "          0,   0,   0,   0,   0,   0,   0,   0,   0,   0,   0,   0,   0,\n",
    "          0,   0,   0,   0,   0,   0,   0,   0,   0,   0,   0,   0,   0,\n",
    "          0,   0,   0,   0,   0,   0,   0,   0,   0,   0,   0,   0,   0,\n",
    "          0,   0,   0,   0,   0,   0,   0,   0,   0,   0,   0,   0,   0,\n",
    "          0,   0,   0,   0,   0,   0,   0,   0,   0,   0,   0,   0,   0,\n",
    "          0,   0,   0,   0]]"
   ]
  },
  {
   "cell_type": "code",
   "execution_count": 58,
   "metadata": {},
   "outputs": [
    {
     "data": {
      "text/plain": [
       "<matplotlib.image.AxesImage at 0x2654543da90>"
      ]
     },
     "execution_count": 58,
     "metadata": {},
     "output_type": "execute_result"
    },
    {
     "data": {
      "image/png": "[encoded data removed]",
      "text/plain": [
       "<Figure size 432x288 with 1 Axes>"
      ]
     },
     "metadata": {
      "needs_background": "light"
     },
     "output_type": "display_data"
    }
   ],
   "source": [
    "plt.imshow(np.reshape(clip_b,(28,28)),cmap='gray')"
   ]
  },
  {
   "cell_type": "code",
   "execution_count": 59,
   "metadata": {},
   "outputs": [
    {
     "name": "stderr",
     "output_type": "stream",
     "text": [
      "C:\\Users\\vasuk\\AppData\\Roaming\\Python\\Python36\\site-packages\\ipykernel_launcher.py:14: RuntimeWarning: overflow encountered in exp\n",
      "  \n"
     ]
    },
    {
     "data": {
      "text/plain": [
       "<matplotlib.image.AxesImage at 0x26545833ba8>"
      ]
     },
     "execution_count": 59,
     "metadata": {},
     "output_type": "execute_result"
    },
    {
     "data": {
      "image/png": "[encoded data removed]",
      "text/plain": [
       "<Figure size 432x288 with 1 Axes>"
      ]
     },
     "metadata": {
      "needs_background": "light"
     },
     "output_type": "display_data"
    }
   ],
   "source": [
    "reconstruct_b = rbm.reconstruct(clip_b)\n",
    "plt.imshow(np.reshape(reconstruct_b,(28,28)),cmap='gray')"
   ]
  }
 ],
 "metadata": {
  "colab": {
   "authorship_tag": "ABX9TyNTEb7fCmLquNGDWG7qvjlM",
   "collapsed_sections": [],
   "mount_file_id": "1u9w9usfZMUdmwXrEMOa4qESwcOZC-J9l",
   "name": "RBM.ipynb",
   "provenance": [],
   "toc_visible": true
  },
  "kernelspec": {
   "display_name": "Python 3",
   "language": "python",
   "name": "python3"
  },
  "language_info": {
   "codemirror_mode": {
    "name": "ipython",
    "version": 3
   },
   "file_extension": ".py",
   "mimetype": "text/x-python",
   "name": "python",
   "nbconvert_exporter": "python",
   "pygments_lexer": "ipython3",
   "version": "3.6.5"
  }
 },
 "nbformat": 4,
 "nbformat_minor": 4
}
