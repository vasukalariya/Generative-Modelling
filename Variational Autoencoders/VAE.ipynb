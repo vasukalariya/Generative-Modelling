{
  "nbformat": 4,
  "nbformat_minor": 0,
  "metadata": {
    "colab": {
      "name": "VAE.ipynb",
      "provenance": [],
      "collapsed_sections": [],
      "toc_visible": true,
      "mount_file_id": "1jRVUViN0nCxmUTW1vJ5x0j5Kocti8svV",
      "authorship_tag": "ABX9TyMbm5yroTvDLwRkAPr1Bbv4"
    },
    "kernelspec": {
      "name": "python3",
      "display_name": "Python 3"
    },
    "accelerator": "GPU"
  },
  "cells": [
    {
      "cell_type": "markdown",
      "metadata": {
        "id": "wP81cRto8j5b",
        "colab_type": "text"
      },
      "source": [
        "## IMPORTING LIBRARIES AND DATASET"
      ]
    },
    {
      "cell_type": "code",
      "metadata": {
        "id": "gaK3BlLF1VnQ",
        "colab_type": "code",
        "colab": {}
      },
      "source": [
        "import torch\n",
        "import numpy as np\n",
        "import matplotlib.pyplot as plt"
      ],
      "execution_count": 0,
      "outputs": []
    },
    {
      "cell_type": "code",
      "metadata": {
        "id": "HHnQ-FCi1ruY",
        "colab_type": "code",
        "colab": {
          "base_uri": "https://localhost:8080/",
          "height": 34
        },
        "outputId": "61210285-5a6d-4ecb-d66f-380336a9f52e"
      },
      "source": [
        "device = torch.device('cuda' if torch.cuda.is_available() else 'cpu')\n",
        "print(device)"
      ],
      "execution_count": 2,
      "outputs": [
        {
          "output_type": "stream",
          "text": [
            "cuda\n"
          ],
          "name": "stdout"
        }
      ]
    },
    {
      "cell_type": "code",
      "metadata": {
        "id": "rqgRyHFW2aj2",
        "colab_type": "code",
        "colab": {}
      },
      "source": [
        "data = np.load(\"mnist_train_images.npy\")\n",
        "data = data/255\n",
        "data = torch.Tensor(data)"
      ],
      "execution_count": 0,
      "outputs": []
    },
    {
      "cell_type": "markdown",
      "metadata": {
        "id": "5GQ1zaiY8rKX",
        "colab_type": "text"
      },
      "source": [
        "## VAE ARCHITECTURE"
      ]
    },
    {
      "cell_type": "code",
      "metadata": {
        "id": "oNkoV2Gg2hNk",
        "colab_type": "code",
        "colab": {}
      },
      "source": [
        "class VAE(torch.nn.Module):\n",
        "\n",
        "  def __init__(self):\n",
        "    super(VAE, self).__init__()\n",
        "\n",
        "    self.fc1 = torch.nn.Linear(784,400)\n",
        "    self.relu1 = torch.nn.ReLU()\n",
        "    self.mu = torch.nn.Linear(400,20)\n",
        "    self.logvar = torch.nn.Linear(400,20)\n",
        "    self.fc2 = torch.nn.Linear(20,400)\n",
        "    self.relu2 = torch.nn.ReLU()\n",
        "    self.fc3 = torch.nn.Linear(400,784)\n",
        "    self.sig = torch.nn.Sigmoid()\n",
        "\n",
        "  def encode(self, x):\n",
        "    \n",
        "    out = self.fc1(x)\n",
        "    out = self.relu1(out)\n",
        "    out_mu = self.mu(out)\n",
        "    out_logvar = self.logvar(out)\n",
        "\n",
        "    return out_mu, out_logvar\n",
        "\n",
        "  def sample(self,z_mu,z_logvar):\n",
        "    \n",
        "    std = torch.exp(z_logvar/2)\n",
        "    eps = torch.randn_like(std).to(device)\n",
        "    z = z_mu + std*eps\n",
        "\n",
        "    return z\n",
        "\n",
        "  def decode(self,z):\n",
        "\n",
        "    out = self.fc2(z)\n",
        "    out = self.relu2(out)\n",
        "    out = self.fc3(out)\n",
        "    out = self.sig(out)\n",
        "\n",
        "    return out\n",
        "\n",
        "  def loss(self, recon_x, x, mu, logvar):\n",
        "\n",
        "    \n",
        "    kl_loss = -0.5 * torch.sum(1 + logvar - mu.pow(2) - logvar.exp())\n",
        "    diff = recon_x - x\n",
        "    recon_loss = torch.sum(torch.mul(diff, diff))\n",
        "      \n",
        "    loss = (kl_loss + recon_loss)\n",
        "\n",
        "    return loss\n",
        "\n",
        "  def train(self, data, epochs=1, batch_size=1):\n",
        "\n",
        "    for epoch in range(epochs):\n",
        "      total_loss = torch.Tensor([0])\n",
        "      total_loss.to(device)  \n",
        "      \n",
        "      for i in range(0,len(data),batch_size):\n",
        "        inp = data[i:i+batch_size].to(device)\n",
        "\n",
        "        z_mu, z_logvar = self.encode(inp)\n",
        "        z = self.sample(z_mu, z_logvar)\n",
        "        out = self.decode(z)\n",
        "\n",
        "        optim.zero_grad()\n",
        "        loss = self.loss(out, inp, z_mu, z_logvar)\n",
        "        total_loss += loss\n",
        "        loss.backward()\n",
        "        optim.step()\n",
        "\n",
        "      if (epoch+1)%10 == 0 or epoch == 0: \n",
        "        print(\"Epoch: \",epoch+1,\"    loss: \",(total_loss.item())/data.shape[0])"
      ],
      "execution_count": 0,
      "outputs": []
    },
    {
      "cell_type": "markdown",
      "metadata": {
        "id": "1f2SIbgD8wVr",
        "colab_type": "text"
      },
      "source": [
        "## TRAINING"
      ]
    },
    {
      "cell_type": "code",
      "metadata": {
        "id": "zSgdf4fMgOH8",
        "colab_type": "code",
        "colab": {
          "base_uri": "https://localhost:8080/",
          "height": 1000
        },
        "outputId": "424f234c-753e-462d-9aae-b37bbf703187"
      },
      "source": [
        "vae = VAE().to(device)\n",
        "optim = torch.optim.Adam(vae.parameters(), lr=0.001)\n",
        "vae.train(data, epochs=1000, batch_size=1000)"
      ],
      "execution_count": 6,
      "outputs": [
        {
          "output_type": "stream",
          "text": [
            "Epoch:  1     loss:  70.38558333333333\n",
            "Epoch:  10     loss:  34.184979166666665\n",
            "Epoch:  20     loss:  31.695339583333332\n",
            "Epoch:  30     loss:  30.775341666666666\n",
            "Epoch:  40     loss:  30.235777083333332\n",
            "Epoch:  50     loss:  29.864070833333333\n",
            "Epoch:  60     loss:  29.613985416666665\n",
            "Epoch:  70     loss:  29.38452708333333\n",
            "Epoch:  80     loss:  29.194997916666665\n",
            "Epoch:  90     loss:  29.013939583333332\n",
            "Epoch:  100     loss:  28.86676875\n",
            "Epoch:  110     loss:  28.789564583333334\n",
            "Epoch:  120     loss:  28.657683333333335\n",
            "Epoch:  130     loss:  28.560339583333334\n",
            "Epoch:  140     loss:  28.49235\n",
            "Epoch:  150     loss:  28.427679166666667\n",
            "Epoch:  160     loss:  28.420597916666665\n",
            "Epoch:  170     loss:  28.32843125\n",
            "Epoch:  180     loss:  28.26226875\n",
            "Epoch:  190     loss:  28.212752083333335\n",
            "Epoch:  200     loss:  28.181320833333334\n",
            "Epoch:  210     loss:  28.140814583333334\n",
            "Epoch:  220     loss:  28.121060416666666\n",
            "Epoch:  230     loss:  28.070479166666665\n",
            "Epoch:  240     loss:  28.04125\n",
            "Epoch:  250     loss:  28.020295833333332\n",
            "Epoch:  260     loss:  27.995239583333333\n",
            "Epoch:  270     loss:  27.97928125\n",
            "Epoch:  280     loss:  27.9224\n",
            "Epoch:  290     loss:  27.87629375\n",
            "Epoch:  300     loss:  27.887116666666667\n",
            "Epoch:  310     loss:  27.86061875\n",
            "Epoch:  320     loss:  27.867297916666665\n",
            "Epoch:  330     loss:  27.814354166666668\n",
            "Epoch:  340     loss:  27.81025\n",
            "Epoch:  350     loss:  27.780954166666668\n",
            "Epoch:  360     loss:  27.754935416666665\n",
            "Epoch:  370     loss:  27.750160416666667\n",
            "Epoch:  380     loss:  27.745720833333333\n",
            "Epoch:  390     loss:  27.730320833333334\n",
            "Epoch:  400     loss:  27.69891875\n",
            "Epoch:  410     loss:  27.673027083333334\n",
            "Epoch:  420     loss:  27.68713125\n",
            "Epoch:  430     loss:  27.657197916666668\n",
            "Epoch:  440     loss:  27.649439583333333\n",
            "Epoch:  450     loss:  27.632397916666665\n",
            "Epoch:  460     loss:  27.647908333333334\n",
            "Epoch:  470     loss:  27.61179375\n",
            "Epoch:  480     loss:  27.61917083333333\n",
            "Epoch:  490     loss:  27.60723958333333\n",
            "Epoch:  500     loss:  27.57348125\n",
            "Epoch:  510     loss:  27.57908125\n",
            "Epoch:  520     loss:  27.574658333333332\n",
            "Epoch:  530     loss:  27.541895833333335\n",
            "Epoch:  540     loss:  27.542570833333333\n",
            "Epoch:  550     loss:  27.525102083333334\n",
            "Epoch:  560     loss:  27.514697916666666\n",
            "Epoch:  570     loss:  27.516166666666667\n",
            "Epoch:  580     loss:  27.490214583333334\n",
            "Epoch:  590     loss:  27.463702083333335\n",
            "Epoch:  600     loss:  27.494291666666665\n",
            "Epoch:  610     loss:  27.47989375\n",
            "Epoch:  620     loss:  27.4663375\n",
            "Epoch:  630     loss:  27.47966875\n",
            "Epoch:  640     loss:  27.428775\n",
            "Epoch:  650     loss:  27.437435416666666\n",
            "Epoch:  660     loss:  27.445772916666666\n",
            "Epoch:  670     loss:  27.425154166666665\n",
            "Epoch:  680     loss:  27.413675\n",
            "Epoch:  690     loss:  27.413408333333333\n",
            "Epoch:  700     loss:  27.390322916666666\n",
            "Epoch:  710     loss:  27.414708333333333\n",
            "Epoch:  720     loss:  27.38731875\n",
            "Epoch:  730     loss:  27.37806875\n",
            "Epoch:  740     loss:  27.35113958333333\n",
            "Epoch:  750     loss:  27.374689583333332\n",
            "Epoch:  760     loss:  27.36154375\n",
            "Epoch:  770     loss:  27.3481875\n",
            "Epoch:  780     loss:  27.343847916666668\n",
            "Epoch:  790     loss:  27.343383333333332\n",
            "Epoch:  800     loss:  27.316004166666666\n",
            "Epoch:  810     loss:  27.328833333333332\n",
            "Epoch:  820     loss:  27.314383333333332\n",
            "Epoch:  830     loss:  27.298322916666667\n",
            "Epoch:  840     loss:  27.30255625\n",
            "Epoch:  850     loss:  27.307183333333334\n",
            "Epoch:  860     loss:  27.30393541666667\n",
            "Epoch:  870     loss:  27.278810416666666\n",
            "Epoch:  880     loss:  27.267035416666666\n",
            "Epoch:  890     loss:  27.287825\n",
            "Epoch:  900     loss:  27.2727875\n",
            "Epoch:  910     loss:  27.27099375\n",
            "Epoch:  920     loss:  27.277102083333332\n",
            "Epoch:  930     loss:  27.271870833333335\n",
            "Epoch:  940     loss:  27.2502125\n",
            "Epoch:  950     loss:  27.256235416666666\n",
            "Epoch:  960     loss:  27.2279875\n",
            "Epoch:  970     loss:  27.246460416666668\n",
            "Epoch:  980     loss:  27.233185416666668\n",
            "Epoch:  990     loss:  27.229970833333333\n",
            "Epoch:  1000     loss:  27.221472916666666\n"
          ],
          "name": "stdout"
        }
      ]
    },
    {
      "cell_type": "markdown",
      "metadata": {
        "id": "36PoYp_s80XE",
        "colab_type": "text"
      },
      "source": [
        "## TESTING ON TRAIN IMAGES"
      ]
    },
    {
      "cell_type": "code",
      "metadata": {
        "id": "w0JAqYmwyIRh",
        "colab_type": "code",
        "colab": {
          "base_uri": "https://localhost:8080/",
          "height": 575
        },
        "outputId": "b7dc18f0-a424-4a1c-eb28-edac87aa4140"
      },
      "source": [
        "import random\n",
        "fig, ax = plt.subplots(figsize=(10,10), nrows=5, ncols=5)\n",
        "\n",
        "plt.axis('off')\n",
        "i=0\n",
        "for row in ax:\n",
        "  for col in row:\n",
        "    dummy = data[random.randint(0,10000)].to(device)\n",
        "    mu, lvar = vae.encode(dummy)\n",
        "    z = vae.sample(mu, lvar)\n",
        "    image = vae.decode(z)\n",
        "    image = image.view(28,28)\n",
        "    col.imshow(image.detach().cpu().numpy(), cmap='gray')\n",
        "    col.set_axis_off()\n",
        "    i+=1\n",
        "    \n",
        "plt.show()"
      ],
      "execution_count": 7,
      "outputs": [
        {
          "output_type": "display_data",
          "data": {
            "image/png": "[encoded data removed]",
            "text/plain": [
              "<Figure size 720x720 with 25 Axes>"
            ]
          },
          "metadata": {
            "tags": [],
            "needs_background": "light"
          }
        }
      ]
    },
    {
      "cell_type": "markdown",
      "metadata": {
        "id": "AWfYTA6q899d",
        "colab_type": "text"
      },
      "source": [
        "## GENERATING FROM RANDOM NOISE"
      ]
    },
    {
      "cell_type": "code",
      "metadata": {
        "id": "iCXrXvLFirFI",
        "colab_type": "code",
        "colab": {
          "base_uri": "https://localhost:8080/",
          "height": 575
        },
        "outputId": "1c694b2d-b9bb-45a5-9d3e-2a3c74530309"
      },
      "source": [
        "fig, ax = plt.subplots(figsize=(10,10), nrows=5, ncols=5)\n",
        "\n",
        "plt.axis('off')\n",
        "i=0\n",
        "for row in ax:\n",
        "  for col in row:\n",
        "    dummy = torch.randn(1,20).to(device)\n",
        "    image = vae.decode(dummy)\n",
        "    image = image.view(28,28)\n",
        "    col.imshow(image.detach().cpu().numpy(), cmap='gray')\n",
        "    col.set_axis_off()\n",
        "    i+=1\n",
        "    \n",
        "plt.show()"
      ],
      "execution_count": 8,
      "outputs": [
        {
          "output_type": "display_data",
          "data": {
            "image/png": "[encoded data removed]",
            "text/plain": [
              "<Figure size 720x720 with 25 Axes>"
            ]
          },
          "metadata": {
            "tags": [],
            "needs_background": "light"
          }
        }
      ]
    }
  ]
}