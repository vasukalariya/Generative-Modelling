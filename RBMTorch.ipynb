{
  "nbformat": 4,
  "nbformat_minor": 0,
  "metadata": {
    "colab": {
      "name": "RBMTorch.ipynb",
      "provenance": [],
      "collapsed_sections": [],
      "toc_visible": true,
      "mount_file_id": "1u9w9usfZMUdmwXrEMOa4qESwcOZC-J9l",
      "authorship_tag": "ABX9TyNaeuTnRM1XyPWdMbBDuIKs"
    },
    "kernelspec": {
      "name": "python3",
      "display_name": "Python 3"
    },
    "accelerator": "GPU"
  },
  "cells": [
    {
      "cell_type": "code",
      "metadata": {
        "id": "GxJD4DrbpX5U",
        "colab_type": "code",
        "colab": {}
      },
      "source": [
        "import numpy as np\n",
        "import matplotlib.pyplot as plt\n",
        "import torch\n",
        "import torchvision\n",
        "import torchvision.datasets as datasets"
      ],
      "execution_count": 0,
      "outputs": []
    },
    {
      "cell_type": "code",
      "metadata": {
        "id": "l7Xu5NL1pnUo",
        "colab_type": "code",
        "outputId": "dd9107da-c8c0-4feb-a5c2-ae01907739fb",
        "colab": {
          "base_uri": "https://localhost:8080/",
          "height": 34
        }
      },
      "source": [
        "cd \"drive/My Drive/Colab Notebooks/\""
      ],
      "execution_count": 2,
      "outputs": [
        {
          "output_type": "stream",
          "text": [
            "/content/drive/My Drive/Colab Notebooks\n"
          ],
          "name": "stdout"
        }
      ]
    },
    {
      "cell_type": "code",
      "metadata": {
        "id": "sXRLduYxMoG5",
        "colab_type": "code",
        "colab": {
          "base_uri": "https://localhost:8080/",
          "height": 50
        },
        "outputId": "9d2cb5bb-362a-457e-b05f-59fcae33a3cc"
      },
      "source": [
        "use_cuda = True\n",
        "if use_cuda and torch.cuda.is_available():\n",
        "  print(\"Available\")\n",
        "  dev = torch.device('cuda')\n",
        "  print(dev)"
      ],
      "execution_count": 3,
      "outputs": [
        {
          "output_type": "stream",
          "text": [
            "Available\n",
            "cuda\n"
          ],
          "name": "stdout"
        }
      ]
    },
    {
      "cell_type": "code",
      "metadata": {
        "id": "-RDT3OuArV62",
        "colab_type": "code",
        "colab": {}
      },
      "source": [
        "# train_loader = torch.utils.data.DataLoader(\n",
        "#   datasets.MNIST('', train=True, download=True,\n",
        "#                              transform=torchvision.transforms.Compose([\n",
        "#                                torchvision.transforms.ToTensor(),\n",
        "#                                torchvision.transforms.Normalize(\n",
        "#                                  (0.5,), (0.5,))\n",
        "#                              ])),\n",
        "#   batch_size=500, shuffle=True)\n",
        "data = np.load(\"mnist_train_images.npy\")"
      ],
      "execution_count": 0,
      "outputs": []
    },
    {
      "cell_type": "code",
      "metadata": {
        "id": "iHCi3KTdtJpr",
        "colab_type": "code",
        "colab": {}
      },
      "source": [
        "class RBM(torch.nn.Module):\n",
        "  \n",
        "  def __init__(self, v_size=784, h_size=256, k=1, lr=0.1):\n",
        "    super(RBM, self).__init__()\n",
        "    self.v = torch.Tensor(torch.randn(1, v_size)).to(dev)\n",
        "    self.h = torch.Tensor(torch.randn(1, h_size)).to(dev)\n",
        "    self.W = torch.Tensor(torch.randn(h_size, v_size)).to(dev)\n",
        "    self.v_bias = torch.Tensor(torch.zeros(1, v_size)).to(dev)\n",
        "    self.h_bias = torch.Tensor(torch.zeros(1, h_size)).to(dev)\n",
        "    self.k = k\n",
        "    self.lr = lr\n",
        "\n",
        "  def sample_h_given_v(self, vis):\n",
        "    htensor = torch.matmul(vis, self.W.T) + self.h_bias\n",
        "    activation = torch.sigmoid(htensor)\n",
        "    h_dist = torch.distributions.Bernoulli(activation)\n",
        "    sampled_h = h_dist.sample()\n",
        "\n",
        "    return activation, sampled_h\n",
        "\n",
        "  def sample_v_given_h(self, hid):\n",
        "    vtensor = torch.matmul(hid, self.W) + self.v_bias\n",
        "    activation = torch.sigmoid(vtensor)\n",
        "    v_dist = torch.distributions.Bernoulli(activation)\n",
        "    sampled_v = v_dist.sample()\n",
        "\n",
        "    return activation, sampled_v\n",
        "\n",
        "  def energy(self, vis):\n",
        "    _, hidden = self.sample_h_given_v(vis)\n",
        "    val = torch.matmul(vis, self.v_bias.T) + torch.matmul(hidden, self.h_bias.T) + torch.matmul(torch.matmul(hidden, self.W), vis.T)\n",
        "    \n",
        "    return -val\n",
        "\n",
        "  def contrastive_divergence(self,input_data):\n",
        "    sample_v = input_data\n",
        "    for i in range(self.k):\n",
        "      pre_h, sample_h = self.sample_h_given_v(sample_v)\n",
        "      pre_v, sample_v = self.sample_v_given_h(sample_h)\n",
        "\n",
        "      pre_h_tilde, sample_h_tilde = self.sample_h_given_v(pre_v)\n",
        "\n",
        "    self.W += self.lr*(torch.matmul(pre_h.T, input_data) - torch.matmul(pre_h_tilde.T, pre_v))\n",
        "    self.v_bias += self.lr*(input_data - pre_v)\n",
        "    self.h_bias += self.lr*(pre_h - pre_h_tilde)\n",
        "\n",
        "    return sample_v\n",
        "\n",
        "  def train(self, data, epochs=1):\n",
        "    for epoch in range(epochs):\n",
        "      print(\"Epoch: \",epoch+1)\n",
        "      for i,image in enumerate(data):\n",
        "        image = image/255\n",
        "        image = image.view(1,784)\n",
        "        _ = self.contrastive_divergence(image)\n",
        "        if i%1000 == 0:\n",
        "          energy_val = self.energy(image) \n",
        "          print(i,\" \",energy_val.item())\n",
        "\n",
        "  def reconstruct(self, test_img):\n",
        "    for i in range(self.k):\n",
        "      pre_h, sample_h = self.sample_h_given_v(test_img)\n",
        "      pre_v, sample_v = self.sample_v_given_h(sample_h)\n",
        "\n",
        "    return sample_v"
      ],
      "execution_count": 0,
      "outputs": []
    },
    {
      "cell_type": "code",
      "metadata": {
        "id": "OhApvubhEaWf",
        "colab_type": "code",
        "outputId": "d047c935-d674-4373-9c61-f77656079e61",
        "colab": {
          "base_uri": "https://localhost:8080/",
          "height": 34
        }
      },
      "source": [
        "data = torch.Tensor(data).to(dev)\n",
        "data.shape\n",
        "type(data[0])"
      ],
      "execution_count": 6,
      "outputs": [
        {
          "output_type": "execute_result",
          "data": {
            "text/plain": [
              "torch.Tensor"
            ]
          },
          "metadata": {
            "tags": []
          },
          "execution_count": 6
        }
      ]
    },
    {
      "cell_type": "code",
      "metadata": {
        "id": "2u7x5vQtI6-R",
        "colab_type": "code",
        "outputId": "04a2660d-29cf-4ac7-95db-6519d66d2323",
        "colab": {
          "base_uri": "https://localhost:8080/",
          "height": 1000
        }
      },
      "source": [
        "rbm = RBM(k=2)\n",
        "rbm.train(data[:20000],epochs=10)"
      ],
      "execution_count": 8,
      "outputs": [
        {
          "output_type": "stream",
          "text": [
            "Epoch:  1\n",
            "0   -1236.19091796875\n",
            "1000   -164.99610900878906\n",
            "2000   -116.33904266357422\n",
            "3000   -59.431922912597656\n",
            "4000   -144.16781616210938\n",
            "5000   -45.867408752441406\n",
            "6000   -172.27871704101562\n",
            "7000   -88.7326431274414\n",
            "8000   -151.0764617919922\n",
            "9000   -38.754730224609375\n",
            "10000   -127.42759704589844\n",
            "11000   -174.0263671875\n",
            "12000   -130.23678588867188\n",
            "13000   -115.45027160644531\n",
            "14000   -154.3209686279297\n",
            "15000   -100.7419662475586\n",
            "16000   -115.93529510498047\n",
            "17000   -84.11212158203125\n",
            "18000   -152.30052185058594\n",
            "19000   -153.36166381835938\n",
            "Epoch:  2\n",
            "0   -74.75241088867188\n",
            "1000   -167.5736541748047\n",
            "2000   -130.41116333007812\n",
            "3000   -72.17601013183594\n",
            "4000   -181.27809143066406\n",
            "5000   -79.365478515625\n",
            "6000   -195.810546875\n",
            "7000   -136.58126831054688\n",
            "8000   -172.94741821289062\n",
            "9000   -97.68389892578125\n",
            "10000   -144.8063201904297\n",
            "11000   -209.17996215820312\n",
            "12000   -154.56419372558594\n",
            "13000   -140.41445922851562\n",
            "14000   -196.06747436523438\n",
            "15000   -135.68862915039062\n",
            "16000   -185.62277221679688\n",
            "17000   -85.91910552978516\n",
            "18000   -180.91287231445312\n",
            "19000   -156.1006622314453\n",
            "Epoch:  3\n",
            "0   -101.52220916748047\n",
            "1000   -127.73646545410156\n",
            "2000   -148.18980407714844\n",
            "3000   -109.52471923828125\n",
            "4000   -193.128662109375\n",
            "5000   -98.4116439819336\n",
            "6000   -247.88302612304688\n",
            "7000   -141.07424926757812\n",
            "8000   -215.74822998046875\n",
            "9000   -102.57695007324219\n",
            "10000   -165.85365295410156\n",
            "11000   -207.44386291503906\n",
            "12000   -213.2748565673828\n",
            "13000   -163.94308471679688\n",
            "14000   -230.5648651123047\n",
            "15000   -133.19680786132812\n",
            "16000   -191.49948120117188\n",
            "17000   -136.03359985351562\n",
            "18000   -186.3091278076172\n",
            "19000   -179.6675567626953\n",
            "Epoch:  4\n",
            "0   -160.22500610351562\n",
            "1000   -163.80979919433594\n",
            "2000   -145.58450317382812\n",
            "3000   -137.0830841064453\n",
            "4000   -201.8374481201172\n",
            "5000   -97.97283172607422\n",
            "6000   -216.42425537109375\n",
            "7000   -143.32479858398438\n",
            "8000   -243.67901611328125\n",
            "9000   -125.8790283203125\n",
            "10000   -184.48863220214844\n",
            "11000   -237.20465087890625\n",
            "12000   -177.82608032226562\n",
            "13000   -175.22164916992188\n",
            "14000   -260.4602966308594\n",
            "15000   -191.0644073486328\n",
            "16000   -170.04022216796875\n",
            "17000   -159.53964233398438\n",
            "18000   -178.18844604492188\n",
            "19000   -172.11940002441406\n",
            "Epoch:  5\n",
            "0   -138.2066650390625\n",
            "1000   -196.02943420410156\n",
            "2000   -147.65353393554688\n",
            "3000   -130.4039306640625\n",
            "4000   -217.23403930664062\n",
            "5000   -104.61480712890625\n",
            "6000   -231.97723388671875\n",
            "7000   -178.04551696777344\n",
            "8000   -228.44570922851562\n",
            "9000   -100.34149169921875\n",
            "10000   -194.0789794921875\n",
            "11000   -200.1327362060547\n",
            "12000   -185.2664794921875\n",
            "13000   -147.42874145507812\n",
            "14000   -229.06344604492188\n",
            "15000   -156.39505004882812\n",
            "16000   -167.83450317382812\n",
            "17000   -160.51974487304688\n",
            "18000   -198.7708740234375\n",
            "19000   -166.21881103515625\n",
            "Epoch:  6\n",
            "0   -153.49496459960938\n",
            "1000   -150.83572387695312\n",
            "2000   -133.53433227539062\n",
            "3000   -127.51097106933594\n",
            "4000   -215.363037109375\n",
            "5000   -80.791015625\n",
            "6000   -210.68336486816406\n",
            "7000   -152.54721069335938\n",
            "8000   -194.79141235351562\n",
            "9000   -140.1988983154297\n",
            "10000   -189.37783813476562\n",
            "11000   -237.3968505859375\n",
            "12000   -207.4087371826172\n",
            "13000   -155.68887329101562\n",
            "14000   -198.05319213867188\n",
            "15000   -136.8496856689453\n",
            "16000   -187.36810302734375\n",
            "17000   -159.92742919921875\n",
            "18000   -196.96044921875\n",
            "19000   -177.69589233398438\n",
            "Epoch:  7\n",
            "0   -146.41989135742188\n",
            "1000   -181.81689453125\n",
            "2000   -121.50662994384766\n",
            "3000   -129.35891723632812\n",
            "4000   -191.9820098876953\n",
            "5000   -90.94513702392578\n",
            "6000   -185.150146484375\n",
            "7000   -139.54205322265625\n",
            "8000   -183.8970947265625\n",
            "9000   -135.5801239013672\n",
            "10000   -145.5728759765625\n",
            "11000   -201.83921813964844\n",
            "12000   -211.52957153320312\n",
            "13000   -154.12002563476562\n",
            "14000   -201.67941284179688\n",
            "15000   -157.25115966796875\n",
            "16000   -201.24404907226562\n",
            "17000   -124.94705963134766\n",
            "18000   -186.75631713867188\n",
            "19000   -169.8323211669922\n",
            "Epoch:  8\n",
            "0   -161.98330688476562\n",
            "1000   -214.45468139648438\n",
            "2000   -156.24447631835938\n",
            "3000   -147.18653869628906\n",
            "4000   -222.12171936035156\n",
            "5000   -100.60230255126953\n",
            "6000   -225.38058471679688\n",
            "7000   -177.32586669921875\n",
            "8000   -212.90380859375\n",
            "9000   -158.34246826171875\n",
            "10000   -222.37289428710938\n",
            "11000   -226.34544372558594\n",
            "12000   -188.66912841796875\n",
            "13000   -161.085693359375\n",
            "14000   -205.48675537109375\n",
            "15000   -152.52984619140625\n",
            "16000   -179.26083374023438\n",
            "17000   -152.8697052001953\n",
            "18000   -180.28274536132812\n",
            "19000   -219.90721130371094\n",
            "Epoch:  9\n",
            "0   -140.84706115722656\n",
            "1000   -157.7406768798828\n",
            "2000   -170.67544555664062\n",
            "3000   -133.73463439941406\n",
            "4000   -196.46876525878906\n",
            "5000   -94.88070678710938\n",
            "6000   -202.63751220703125\n",
            "7000   -160.9384307861328\n",
            "8000   -154.19747924804688\n",
            "9000   -143.742919921875\n",
            "10000   -187.45736694335938\n",
            "11000   -227.696533203125\n",
            "12000   -245.9523162841797\n",
            "13000   -202.42495727539062\n",
            "14000   -186.86004638671875\n",
            "15000   -166.3692626953125\n",
            "16000   -197.24549865722656\n",
            "17000   -173.83985900878906\n",
            "18000   -221.73880004882812\n",
            "19000   -215.84127807617188\n",
            "Epoch:  10\n",
            "0   -145.0405731201172\n",
            "1000   -148.1816864013672\n",
            "2000   -145.71481323242188\n",
            "3000   -162.13784790039062\n",
            "4000   -233.71575927734375\n",
            "5000   -96.9677734375\n",
            "6000   -211.43087768554688\n",
            "7000   -172.44459533691406\n",
            "8000   -187.65464782714844\n",
            "9000   -145.78074645996094\n",
            "10000   -160.74876403808594\n",
            "11000   -208.7782745361328\n",
            "12000   -227.6323699951172\n",
            "13000   -152.85604858398438\n",
            "14000   -199.07936096191406\n",
            "15000   -129.88534545898438\n",
            "16000   -160.11981201171875\n",
            "17000   -126.61259460449219\n",
            "18000   -168.1759490966797\n",
            "19000   -176.74122619628906\n"
          ],
          "name": "stdout"
        }
      ]
    },
    {
      "cell_type": "code",
      "metadata": {
        "id": "4myYCnjRNYIi",
        "colab_type": "code",
        "colab": {
          "base_uri": "https://localhost:8080/",
          "height": 234
        },
        "outputId": "9ccd621e-b527-49d9-ab94-3beb21e63219"
      },
      "source": [
        "b = data[1000]\n",
        "b = b.view(1,784)\n",
        "cpu_b = b\n",
        "plt.figure()\n",
        "f,ax = plt.subplots(1,2)\n",
        "ax[0].imshow(np.reshape(cpu_b.cpu().numpy(),(28,28)),cmap='gray')\n",
        "new_b = rbm.reconstruct(b)\n",
        "ax[1].imshow(np.reshape(new_b.cpu().numpy(),(28,28)),cmap='gray')"
      ],
      "execution_count": 9,
      "outputs": [
        {
          "output_type": "execute_result",
          "data": {
            "text/plain": [
              "<matplotlib.image.AxesImage at 0x7fab93461f98>"
            ]
          },
          "metadata": {
            "tags": []
          },
          "execution_count": 9
        },
        {
          "output_type": "display_data",
          "data": {
            "text/plain": [
              "<Figure size 432x288 with 0 Axes>"
            ]
          },
          "metadata": {
            "tags": []
          }
        },
        {
          "output_type": "display_data",
          "data": {
            "image/png": "[encoded data removed]",
            "text/plain": [
              "<Figure size 432x288 with 2 Axes>"
            ]
          },
          "metadata": {
            "tags": []
          }
        }
      ]
    },
    {
      "cell_type": "code",
      "metadata": {
        "id": "s80GRoGqPML7",
        "colab_type": "code",
        "outputId": "2a154530-8d0f-477a-d4f5-4756895e3ea7",
        "colab": {
          "base_uri": "https://localhost:8080/",
          "height": 234
        }
      },
      "source": [
        "c = data[1004]\n",
        "c = c.view(1,784)\n",
        "cpu_c = c\n",
        "plt.figure()\n",
        "f,ax = plt.subplots(1,2)\n",
        "ax[0].imshow(np.reshape(cpu_c.cpu().numpy(),(28,28)),cmap='gray')\n",
        "new_c = rbm.reconstruct(c)\n",
        "ax[1].imshow(np.reshape(new_c.cpu().numpy(),(28,28)),cmap='gray')"
      ],
      "execution_count": 10,
      "outputs": [
        {
          "output_type": "execute_result",
          "data": {
            "text/plain": [
              "<matplotlib.image.AxesImage at 0x7fab92ef3cc0>"
            ]
          },
          "metadata": {
            "tags": []
          },
          "execution_count": 10
        },
        {
          "output_type": "display_data",
          "data": {
            "text/plain": [
              "<Figure size 432x288 with 0 Axes>"
            ]
          },
          "metadata": {
            "tags": []
          }
        },
        {
          "output_type": "display_data",
          "data": {
            "image/png": "[encoded data removed]",
            "text/plain": [
              "<Figure size 432x288 with 2 Axes>"
            ]
          },
          "metadata": {
            "tags": []
          }
        }
      ]
    },
    {
      "cell_type": "code",
      "metadata": {
        "id": "Bu3LapvvPVJR",
        "colab_type": "code",
        "outputId": "8cdd71c1-42b4-4fbd-efa1-26e79660616e",
        "colab": {
          "base_uri": "https://localhost:8080/",
          "height": 234
        }
      },
      "source": [
        "clip_b = [[  0,   0,   0,   0,   0,   0,   0,   0,   0,   0,   0,   0,   0,\n",
        "          0,   0,   0,   0,   0,   0,   0,   0,   0,   0,   0,   0,   0,\n",
        "          0,   0,   0,   0,   0,   0,   0,   0,   0,   0,   0,   0,   0,\n",
        "          0,   0,   0,   0,   0,   0,   0,   0,   0,   0,   0,   0,   0,\n",
        "          0,   0,   0,   0,   0,   0,   0,   0,   0,   0,   0,   0,   0,\n",
        "          0,   0,   0,   0,   0,   0,   0,   0,   0,   0,   0,   0,   0,\n",
        "          0,   0,   0,   0,   0,   0,   0,   0,   0,   0,   0,   0,   0,\n",
        "          0,   0,   0,   0,   0,   0,   0,   0,   0,   0,   0,   0,   0,\n",
        "          0,   0,   0,   0,   0,   0,   0,   0,   0,   0,   0,   0,   0,\n",
        "          0,   0,   0,   0,   0,   0,   0,   0,   0,   0,   0,   0,   0,\n",
        "          0,   0,   0,   0,   0,   0,   0,   0,   0,   0,   0,   0,   0,\n",
        "          0,   0,   0,   0,   0,   0,   0,   0,   0,   0,   0,  36, 146,\n",
        "        254, 255, 251,  95,   6,   0,   0,   0,   0,   0,   0,   0,   0,\n",
        "          0,   0,   0,   0,   0,   0,   0,   0,   0,   0,   0,   3,  97,\n",
        "        234, 254, 254, 232, 254, 254,  35,   0,   0,   0,   0,   0,   0,\n",
        "          0,   0,   0,   0,   0,   0,   0,   0,   0,   0,   0,   0,  89,\n",
        "        140, 254, 254, 174,  67,  33, 200, 254, 190,   0,   0,   0,   0,\n",
        "          0,   0,   0,   0,   0,   0,   0,   0,   0,   0,   0,   0,   0,\n",
        "        108, 253, 254, 235,  51,   1,   0,   0,  12, 254, 253,  56,   0,\n",
        "          0,   0,   0,   0,   0,   0,   0,   0,   0,   0,   0,   0,   0,\n",
        "          0,  12, 216, 254, 244,  55,   0,   0,   0,   0,   6, 213, 254,\n",
        "         57,   0,   0,   0,   0,   0,   0,   0,   0,   0,   0,   0,   0,\n",
        "          0,   0,   0,  25, 254, 254, 132,   0,   0,   0,   0,   0,   0,\n",
        "        168, 254,  57,   0,   0,   0,   0,   0,   0,   0,   0,   0,   0,\n",
        "          0,   0,   0,   0,   0,  45, 254, 243,  34,   0,   0,   0,   0,\n",
        "          0,   0, 168, 254,  57,   0,   0,   0,   0,   0,   0,   0,   0,\n",
        "          0,   0,   0,   0,   0,   0,   0, 128, 254, 157,   0,   0,   0,\n",
        "          0,   0,   0,   0, 168, 254,  57,   0,   0,   0,   0,   0,   0,\n",
        "          0,   0,   0,   0,   0,   0,   0,   0,  19, 228, 254, 105,   0,\n",
        "          0,   0,   0,   0,   0,   7, 0, 0,  57,   0,   0,   0,   0,\n",
        "          0,   0,   0,   0,   0,   0,   0,   0,   0,   0,  58, 254, 254,\n",
        "         87,   0,   0,   0,   0,   0,   0,  10, 0, 0,  47,   0,   0,\n",
        "          0,   0,   0,   0,   0,   0,   0,   0,   0,   0,   0,   0,  58,\n",
        "        0, 0,   9,   0,   0,   0,   0,   0,   0,  10, 0, 210,   0,\n",
        "          0,   0,   0,   0,   0,   0,   0,   0,   0,   0,   0,   0,   0,\n",
        "          0,  58, 0, 0,   9,   0,   0,   0,   0,   0,   0, 105, 0,\n",
        "         0,   0,   0,   0,   0,   0,   0,   0,   0,   0,   0,   0,   0,\n",
        "          0,   0,   0,  0, 0, 0,   0,   0,   0,   0,   0,   0,  0,\n",
        "        0, 0,  0,   0,   0,   0,   0,   0,   0,   0,   0,   0,   0,\n",
        "          0,   0,   0,   0,   0,   0, 0, 0,   9,   0,   0,   0,   0,\n",
        "          0,  0, 0, 0,  0,   0,   0,   0,   0,   0,   0,   0,   0,\n",
        "          0,   0,   0,   0,   0,   0,   0,   0, 0, 0,  0,   0,   0,\n",
        "          0,   0,  0, 0, 0,  0,   0,   0,   0,   0,   0,   0,   0,\n",
        "          0,   0,   0,   0,   0,   0,   0,   0,   0,   0, 0, 0, 0,\n",
        "          0,   0,   0,   0, 0, 0, 0,   0,   0,   0,   0,   0,   0,\n",
        "          0,   0,   0,   0,   0,   0,   0,   0,   0,   0,   0,   0,  0,\n",
        "        0, 0,  0,   0,   0,  0, 0, 0,  0,   0,   0,   0,   0,\n",
        "          0,   0,   0,   0,   0,   0,   0,   0,   0,   0,   0,   0,   0,\n",
        "          0,  0, 0, 0, 0,  0, 0, 0, 0, 0,   0,   0,   0,\n",
        "          0,   0,   0,   0,   0,   0,   0,   0,   0,   0,   0,   0,   0,\n",
        "          0,   0,   0,   0,  0, 0, 0, 0, 0, 0, 0,   0,   0,\n",
        "          0,   0,   0,   0,   0,   0,   0,   0,   0,   0,   0,   0,   0,\n",
        "          0,   0,   0,   0,   0,   0,   0, 0, 0, 0, 0, 0,  0,\n",
        "          0,   0,   0,   0,   0,   0,   0,   0,   0,   0,   0,   0,   0,\n",
        "          0,   0,   0,   0,   0,   0,   0,   0,   0,   0,   0,   0,   0,\n",
        "          0,   0,   0,   0,   0,   0,   0,   0,   0,   0,   0,   0,   0,\n",
        "          0,   0,   0,   0,   0,   0,   0,   0,   0,   0,   0,   0,   0,\n",
        "          0,   0,   0,   0,   0,   0,   0,   0,   0,   0,   0,   0,   0,\n",
        "          0,   0,   0,   0,   0,   0,   0,   0,   0,   0,   0,   0,   0,\n",
        "          0,   0,   0,   0,   0,   0,   0,   0,   0,   0,   0,   0,   0,\n",
        "          0,   0,   0,   0]]\n",
        "\n",
        "\n",
        "clip_b = torch.Tensor(clip_b).to(dev)\n",
        "cpu_clip_b = clip_b\n",
        "plt.figure()\n",
        "f,ax = plt.subplots(1,2)\n",
        "ax[0].imshow(np.reshape(cpu_clip_b.cpu().numpy(),(28,28)),cmap='gray')\n",
        "recon_clip_b = rbm.reconstruct(clip_b)\n",
        "ax[1].imshow(np.reshape(recon_clip_b.cpu().numpy(),(28,28)),cmap='gray')"
      ],
      "execution_count": 12,
      "outputs": [
        {
          "output_type": "execute_result",
          "data": {
            "text/plain": [
              "<matplotlib.image.AxesImage at 0x7fab92d85588>"
            ]
          },
          "metadata": {
            "tags": []
          },
          "execution_count": 12
        },
        {
          "output_type": "display_data",
          "data": {
            "text/plain": [
              "<Figure size 432x288 with 0 Axes>"
            ]
          },
          "metadata": {
            "tags": []
          }
        },
        {
          "output_type": "display_data",
          "data": {
            "image/png": "[encoded data removed]",
            "text/plain": [
              "<Figure size 432x288 with 2 Axes>"
            ]
          },
          "metadata": {
            "tags": []
          }
        }
      ]
    }
  ]
}