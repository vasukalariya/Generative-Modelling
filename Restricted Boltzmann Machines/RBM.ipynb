{
 "cells": [
  {
   "cell_type": "markdown",
   "metadata": {},
   "source": [
    "## IMPORTING LIBRARIES"
   ]
  },
  {
   "cell_type": "code",
   "execution_count": 1,
   "metadata": {
    "colab": {},
    "colab_type": "code",
    "id": "GxJD4DrbpX5U"
   },
   "outputs": [],
   "source": [
    "import numpy as np\n",
    "import matplotlib.pyplot as plt"
   ]
  },
  {
   "cell_type": "markdown",
   "metadata": {},
   "source": [
    "## IMPORTING DATASETS"
   ]
  },
  {
   "cell_type": "code",
   "execution_count": 2,
   "metadata": {
    "colab": {},
    "colab_type": "code",
    "id": "-RDT3OuArV62"
   },
   "outputs": [],
   "source": [
    "data = np.load(\"train_images.npy\")"
   ]
  },
  {
   "cell_type": "markdown",
   "metadata": {},
   "source": [
    "## RBM ARCHITECTURE"
   ]
  },
  {
   "cell_type": "code",
   "execution_count": 3,
   "metadata": {
    "colab": {},
    "colab_type": "code",
    "id": "iHCi3KTdtJpr"
   },
   "outputs": [],
   "source": [
    "class RBM():\n",
    "  \n",
    "  def __init__(self, v_size=784, h_size=256, k=1, lr=0.1):\n",
    "    super(RBM, self).__init__()\n",
    "    self.v = np.random.randn(1, v_size)\n",
    "    self.h = np.random.randn(1, h_size)\n",
    "    self.W = np.random.randn(h_size, v_size)\n",
    "    self.v_bias = np.zeros((1, v_size))\n",
    "    self.h_bias = np.zeros((1, h_size))\n",
    "    self.k = k\n",
    "    self.lr = lr\n",
    "\n",
    "  def sigmoid(self, x):\n",
    "    return 1.0/(1 + np.exp(-x))\n",
    "\n",
    "  def sample_h_given_v(self, vis):\n",
    "    htensor = np.matmul(vis, self.W.T) + self.h_bias\n",
    "    activation = self.sigmoid(htensor)\n",
    "    sampled_h = np.random.binomial(size=activation.shape, n = 1, p = activation)\n",
    "\n",
    "    return activation, sampled_h\n",
    "\n",
    "  def sample_v_given_h(self, hid):\n",
    "    vtensor = np.matmul(hid, self.W) + self.v_bias\n",
    "    activation = self.sigmoid(vtensor)\n",
    "    sampled_v = np.random.binomial(size=activation.shape, n = 1, p = activation)\n",
    "    \n",
    "\n",
    "    return activation, sampled_v\n",
    "\n",
    "  def energy(self, vis):\n",
    "    _, hidden = self.sample_h_given_v(vis)\n",
    "    val = -np.matmul(vis, self.v_bias.T)-np.matmul(hidden, self.h_bias.T)-np.matmul(np.matmul(hidden, self.W), vis.T)\n",
    "    return val\n",
    "\n",
    "  def contrastive_divergence(self,input_data):\n",
    "    sample_v = input_data\n",
    "    for i in range(self.k):\n",
    "      pre_h, sample_h = self.sample_h_given_v(sample_v)\n",
    "      pre_v, sample_v = self.sample_v_given_h(sample_h)\n",
    "\n",
    "      pre_h_tilde, sample_h_tilde = self.sample_h_given_v(pre_v)\n",
    "\n",
    "    self.W += self.lr * (np.matmul(pre_h.T, input_data) - np.matmul(pre_h_tilde.T, pre_v))\n",
    "    self.v_bias += self.lr * (input_data - pre_v)\n",
    "    self.h_bias += self.lr*(pre_h - pre_h_tilde)\n",
    "    \n",
    "    return pre_v\n",
    "\n",
    "  def train(self, data, epochs=1):\n",
    "    for epoch in range(epochs):\n",
    "      print(\"Epoch: \",epoch+1)\n",
    "      for i,image in enumerate(data):\n",
    "        image = image/255\n",
    "        image = np.reshape(image,(1,784))\n",
    "        _ = self.contrastive_divergence(image)\n",
    "        if i%1000 == 0:\n",
    "          print(i,\" \",self.energy(image))\n",
    "\n",
    "  def reconstruct(self, test_img):\n",
    "    for i in range(self.k):\n",
    "      pre_h, sample_h = self.sample_h_given_v(test_img)\n",
    "      pre_v, sample_v = self.sample_v_given_h(sample_h)\n",
    "\n",
    "    return sample_v"
   ]
  },
  {
   "cell_type": "markdown",
   "metadata": {},
   "source": [
    "## TESTING"
   ]
  },
  {
   "cell_type": "code",
   "execution_count": 4,
   "metadata": {
    "colab": {
     "base_uri": "https://localhost:8080/",
     "height": 1000
    },
    "colab_type": "code",
    "executionInfo": {
     "elapsed": 5966,
     "status": "ok",
     "timestamp": 1586094824013,
     "user": {
      "displayName": "Vasu Kalariya",
      "photoUrl": "",
      "userId": "14799486405537622209"
     },
     "user_tz": -330
    },
    "id": "OhApvubhEaWf",
    "outputId": "e479a6ff-1410-4cea-ef44-bf431097d744"
   },
   "outputs": [
    {
     "name": "stdout",
     "output_type": "stream",
     "text": [
      "Epoch:  1\n",
      "0   [[-899.16717333]]\n",
      "1000   [[-123.70196144]]\n",
      "2000   [[-110.81311394]]\n",
      "3000   [[-91.63069183]]\n",
      "4000   [[-145.85523606]]\n",
      "5000   [[-40.19879415]]\n",
      "6000   [[-183.28333692]]\n",
      "7000   [[-110.98742388]]\n",
      "8000   [[-149.25673425]]\n",
      "9000   [[-61.1258044]]\n",
      "10000   [[-114.13594102]]\n",
      "11000   [[-207.21678572]]\n",
      "12000   [[-144.35361061]]\n",
      "13000   [[-117.42656762]]\n",
      "14000   [[-170.01364484]]\n",
      "15000   [[-116.95034036]]\n",
      "16000   [[-151.06001078]]\n",
      "17000   [[-102.81717304]]\n",
      "18000   [[-150.74746048]]\n",
      "19000   [[-130.60655479]]\n"
     ]
    }
   ],
   "source": [
    "rbm = RBM(k=1)\n",
    "rbm.train(data[:20000],epochs=1)"
   ]
  },
  {
   "cell_type": "code",
   "execution_count": 5,
   "metadata": {
    "colab": {
     "base_uri": "https://localhost:8080/",
     "height": 34
    },
    "colab_type": "code",
    "executionInfo": {
     "elapsed": 2033,
     "status": "ok",
     "timestamp": 1586094857140,
     "user": {
      "displayName": "Vasu Kalariya",
      "photoUrl": "",
      "userId": "14799486405537622209"
     },
     "user_tz": -330
    },
    "id": "Sqi2VrUHP77A",
    "outputId": "663fb261-0636-4836-dbb9-6cae97cc33e3"
   },
   "outputs": [
    {
     "data": {
      "text/plain": [
       "(1, 784)"
      ]
     },
     "execution_count": 5,
     "metadata": {},
     "output_type": "execute_result"
    }
   ],
   "source": [
    "b = data[1000]\n",
    "b = b.reshape(1,784)\n",
    "b.shape"
   ]
  },
  {
   "cell_type": "code",
   "execution_count": 6,
   "metadata": {
    "colab": {
     "base_uri": "https://localhost:8080/",
     "height": 282
    },
    "colab_type": "code",
    "executionInfo": {
     "elapsed": 19078,
     "status": "ok",
     "timestamp": 1586094879540,
     "user": {
      "displayName": "Vasu Kalariya",
      "photoUrl": "",
      "userId": "14799486405537622209"
     },
     "user_tz": -330
    },
    "id": "UDDQj8ioPDim",
    "outputId": "8293a3fb-4b95-4d32-fb5c-c8d53a9f3ba3"
   },
   "outputs": [
    {
     "data": {
      "text/plain": [
       "<matplotlib.image.AxesImage at 0x24ad7c1cd68>"
      ]
     },
     "execution_count": 6,
     "metadata": {},
     "output_type": "execute_result"
    },
    {
     "data": {
      "image/png": "[encoded data removed]",
      "text/plain": [
       "<Figure size 432x288 with 1 Axes>"
      ]
     },
     "metadata": {
      "needs_background": "light"
     },
     "output_type": "display_data"
    }
   ],
   "source": [
    "plt.imshow(np.reshape(b,(28,28)),cmap='gray')"
   ]
  },
  {
   "cell_type": "code",
   "execution_count": 7,
   "metadata": {
    "colab": {
     "base_uri": "https://localhost:8080/",
     "height": 315
    },
    "colab_type": "code",
    "executionInfo": {
     "elapsed": 1968,
     "status": "ok",
     "timestamp": 1586094886026,
     "user": {
      "displayName": "Vasu Kalariya",
      "photoUrl": "",
      "userId": "14799486405537622209"
     },
     "user_tz": -330
    },
    "id": "s80GRoGqPML7",
    "outputId": "ffcc7d91-1f18-4fec-c176-9b72300c613f"
   },
   "outputs": [
    {
     "name": "stderr",
     "output_type": "stream",
     "text": [
      "C:\\Users\\vasuk\\AppData\\Roaming\\Python\\Python36\\site-packages\\ipykernel_launcher.py:14: RuntimeWarning: overflow encountered in exp\n",
      "  \n"
     ]
    },
    {
     "data": {
      "text/plain": [
       "<matplotlib.image.AxesImage at 0x24ae5bc4940>"
      ]
     },
     "execution_count": 7,
     "metadata": {},
     "output_type": "execute_result"
    },
    {
     "data": {
      "image/png": "[encoded data removed]",
      "text/plain": [
       "<Figure size 432x288 with 1 Axes>"
      ]
     },
     "metadata": {
      "needs_background": "light"
     },
     "output_type": "display_data"
    }
   ],
   "source": [
    "new_b = rbm.reconstruct(b)\n",
    "plt.imshow(np.reshape(new_b,(28,28)),cmap='gray')"
   ]
  },
  {
   "cell_type": "code",
   "execution_count": 8,
   "metadata": {
    "colab": {
     "base_uri": "https://localhost:8080/",
     "height": 282
    },
    "colab_type": "code",
    "executionInfo": {
     "elapsed": 52579,
     "status": "ok",
     "timestamp": 1586095132441,
     "user": {
      "displayName": "Vasu Kalariya",
      "photoUrl": "",
      "userId": "14799486405537622209"
     },
     "user_tz": -330
    },
    "id": "Bu3LapvvPVJR",
    "outputId": "e9012ed8-d188-46af-af75-11975459981d"
   },
   "outputs": [
    {
     "data": {
      "text/plain": [
       "<matplotlib.image.AxesImage at 0x24ae5c2b438>"
      ]
     },
     "execution_count": 8,
     "metadata": {},
     "output_type": "execute_result"
    },
    {
     "data": {
      "image/png": "[encoded data removed]",
      "text/plain": [
       "<Figure size 432x288 with 1 Axes>"
      ]
     },
     "metadata": {
      "needs_background": "light"
     },
     "output_type": "display_data"
    }
   ],
   "source": [
    "c = data[1004]\n",
    "c = c.reshape(1,784)\n",
    "c.shape\n",
    "plt.imshow(np.reshape(c,(28,28)),cmap='gray')"
   ]
  },
  {
   "cell_type": "code",
   "execution_count": 9,
   "metadata": {
    "colab": {},
    "colab_type": "code",
    "id": "aVopsAL7oE02"
   },
   "outputs": [
    {
     "name": "stderr",
     "output_type": "stream",
     "text": [
      "C:\\Users\\vasuk\\AppData\\Roaming\\Python\\Python36\\site-packages\\ipykernel_launcher.py:14: RuntimeWarning: overflow encountered in exp\n",
      "  \n"
     ]
    },
    {
     "data": {
      "text/plain": [
       "<matplotlib.image.AxesImage at 0x24ae5c81be0>"
      ]
     },
     "execution_count": 9,
     "metadata": {},
     "output_type": "execute_result"
    },
    {
     "data": {
      "image/png": "[encoded data removed]",
      "text/plain": [
       "<Figure size 432x288 with 1 Axes>"
      ]
     },
     "metadata": {
      "needs_background": "light"
     },
     "output_type": "display_data"
    }
   ],
   "source": [
    "new_c = rbm.reconstruct(c)\n",
    "plt.imshow(np.reshape(new_c,(28,28)),cmap='gray')"
   ]
  },
  {
   "cell_type": "code",
   "execution_count": 10,
   "metadata": {},
   "outputs": [
    {
     "data": {
      "text/plain": [
       "<matplotlib.image.AxesImage at 0x24ae5cde588>"
      ]
     },
     "execution_count": 10,
     "metadata": {},
     "output_type": "execute_result"
    },
    {
     "data": {
      "image/png": "[encoded data removed]",
      "text/plain": [
       "<Figure size 432x288 with 1 Axes>"
      ]
     },
     "metadata": {
      "needs_background": "light"
     },
     "output_type": "display_data"
    }
   ],
   "source": [
    "b = data[1000]\n",
    "b = b.reshape(1,784)\n",
    "b.shape\n",
    "plt.imshow(np.reshape(b,(28,28)),cmap='gray')"
   ]
  },
  {
   "cell_type": "code",
   "execution_count": 11,
   "metadata": {},
   "outputs": [],
   "source": [
    "clip_b = [[  0,   0,   0,   0,   0,   0,   0,   0,   0,   0,   0,   0,   0,\n",
    "          0,   0,   0,   0,   0,   0,   0,   0,   0,   0,   0,   0,   0,\n",
    "          0,   0,   0,   0,   0,   0,   0,   0,   0,   0,   0,   0,   0,\n",
    "          0,   0,   0,   0,   0,   0,   0,   0,   0,   0,   0,   0,   0,\n",
    "          0,   0,   0,   0,   0,   0,   0,   0,   0,   0,   0,   0,   0,\n",
    "          0,   0,   0,   0,   0,   0,   0,   0,   0,   0,   0,   0,   0,\n",
    "          0,   0,   0,   0,   0,   0,   0,   0,   0,   0,   0,   0,   0,\n",
    "          0,   0,   0,   0,   0,   0,   0,   0,   0,   0,   0,   0,   0,\n",
    "          0,   0,   0,   0,   0,   0,   0,   0,   0,   0,   0,   0,   0,\n",
    "          0,   0,   0,   0,   0,   0,   0,   0,   0,   0,   0,   0,   0,\n",
    "          0,   0,   0,   0,   0,   0,   0,   0,   0,   0,   0,   0,   0,\n",
    "          0,   0,   0,   0,   0,   0,   0,   0,   0,   0,   0,  36, 146,\n",
    "        254, 255, 251,  95,   6,   0,   0,   0,   0,   0,   0,   0,   0,\n",
    "          0,   0,   0,   0,   0,   0,   0,   0,   0,   0,   0,   3,  97,\n",
    "        234, 254, 254, 232, 254, 254,  35,   0,   0,   0,   0,   0,   0,\n",
    "          0,   0,   0,   0,   0,   0,   0,   0,   0,   0,   0,   0,  89,\n",
    "        140, 254, 254, 174,  67,  33, 200, 254, 190,   0,   0,   0,   0,\n",
    "          0,   0,   0,   0,   0,   0,   0,   0,   0,   0,   0,   0,   0,\n",
    "        108, 253, 254, 235,  51,   1,   0,   0,  12, 254, 253,  56,   0,\n",
    "          0,   0,   0,   0,   0,   0,   0,   0,   0,   0,   0,   0,   0,\n",
    "          0,  12, 216, 254, 244,  55,   0,   0,   0,   0,   6, 213, 254,\n",
    "         57,   0,   0,   0,   0,   0,   0,   0,   0,   0,   0,   0,   0,\n",
    "          0,   0,   0,  25, 254, 254, 132,   0,   0,   0,   0,   0,   0,\n",
    "        168, 254,  57,   0,   0,   0,   0,   0,   0,   0,   0,   0,   0,\n",
    "          0,   0,   0,   0,   0,  45, 254, 243,  34,   0,   0,   0,   0,\n",
    "          0,   0, 168, 254,  57,   0,   0,   0,   0,   0,   0,   0,   0,\n",
    "          0,   0,   0,   0,   0,   0,   0, 128, 254, 157,   0,   0,   0,\n",
    "          0,   0,   0,   0, 168, 254,  57,   0,   0,   0,   0,   0,   0,\n",
    "          0,   0,   0,   0,   0,   0,   0,   0,  19, 228, 254, 105,   0,\n",
    "          0,   0,   0,   0,   0,   7, 0, 0,  57,   0,   0,   0,   0,\n",
    "          0,   0,   0,   0,   0,   0,   0,   0,   0,   0,  58, 254, 254,\n",
    "         87,   0,   0,   0,   0,   0,   0,  10, 0, 0,  47,   0,   0,\n",
    "          0,   0,   0,   0,   0,   0,   0,   0,   0,   0,   0,   0,  58,\n",
    "        0, 0,   9,   0,   0,   0,   0,   0,   0,  10, 0, 210,   0,\n",
    "          0,   0,   0,   0,   0,   0,   0,   0,   0,   0,   0,   0,   0,\n",
    "          0,  58, 0, 0,   9,   0,   0,   0,   0,   0,   0, 105, 0,\n",
    "         91,   0,   0,   0,   0,   0,   0,   0,   0,   0,   0,   0,   0,\n",
    "          0,   0,   0,   5, 0, 0,   9,   0,   0,   0,   0,   0,  24,\n",
    "        0, 0,  24,   0,   0,   0,   0,   0,   0,   0,   0,   0,   0,\n",
    "          0,   0,   0,   0,   0,   0, 0, 0,   9,   0,   0,   0,   0,\n",
    "          0,  84, 0, 0,  23,   0,   0,   0,   0,   0,   0,   0,   0,\n",
    "          0,   0,   0,   0,   0,   0,   0,   0, 0, 0,  36,   0,   0,\n",
    "          0,   0,  0, 0, 0,  0,   0,   0,   0,   0,   0,   0,   0,\n",
    "          0,   0,   0,   0,   0,   0,   0,   0,   0,   0, 0, 0, 0,\n",
    "          0,   0,   0,   0, 0, 0, 0,   0,   0,   0,   0,   0,   0,\n",
    "          0,   0,   0,   0,   0,   0,   0,   0,   0,   0,   0,   0,  0,\n",
    "        0, 0,  0,   0,   0,  0, 0, 0,  0,   0,   0,   0,   0,\n",
    "          0,   0,   0,   0,   0,   0,   0,   0,   0,   0,   0,   0,   0,\n",
    "          0,  0, 0, 0, 0,  0, 0, 0, 0, 0,   0,   0,   0,\n",
    "          0,   0,   0,   0,   0,   0,   0,   0,   0,   0,   0,   0,   0,\n",
    "          0,   0,   0,   0,  0, 0, 0, 0, 0, 0, 0,   0,   0,\n",
    "          0,   0,   0,   0,   0,   0,   0,   0,   0,   0,   0,   0,   0,\n",
    "          0,   0,   0,   0,   0,   0,   0, 0, 0, 0, 0, 0,  0,\n",
    "          0,   0,   0,   0,   0,   0,   0,   0,   0,   0,   0,   0,   0,\n",
    "          0,   0,   0,   0,   0,   0,   0,   0,   0,   0,   0,   0,   0,\n",
    "          0,   0,   0,   0,   0,   0,   0,   0,   0,   0,   0,   0,   0,\n",
    "          0,   0,   0,   0,   0,   0,   0,   0,   0,   0,   0,   0,   0,\n",
    "          0,   0,   0,   0,   0,   0,   0,   0,   0,   0,   0,   0,   0,\n",
    "          0,   0,   0,   0,   0,   0,   0,   0,   0,   0,   0,   0,   0,\n",
    "          0,   0,   0,   0,   0,   0,   0,   0,   0,   0,   0,   0,   0,\n",
    "          0,   0,   0,   0]]"
   ]
  },
  {
   "cell_type": "code",
   "execution_count": 12,
   "metadata": {},
   "outputs": [
    {
     "data": {
      "text/plain": [
       "<matplotlib.image.AxesImage at 0x24ae5d42780>"
      ]
     },
     "execution_count": 12,
     "metadata": {},
     "output_type": "execute_result"
    },
    {
     "data": {
      "image/png": "[encoded data removed]",
      "text/plain": [
       "<Figure size 432x288 with 1 Axes>"
      ]
     },
     "metadata": {
      "needs_background": "light"
     },
     "output_type": "display_data"
    }
   ],
   "source": [
    "plt.imshow(np.reshape(clip_b,(28,28)),cmap='gray')"
   ]
  },
  {
   "cell_type": "code",
   "execution_count": 13,
   "metadata": {},
   "outputs": [
    {
     "name": "stderr",
     "output_type": "stream",
     "text": [
      "C:\\Users\\vasuk\\AppData\\Roaming\\Python\\Python36\\site-packages\\ipykernel_launcher.py:14: RuntimeWarning: overflow encountered in exp\n",
      "  \n"
     ]
    },
    {
     "data": {
      "text/plain": [
       "<matplotlib.image.AxesImage at 0x24ae5db7c18>"
      ]
     },
     "execution_count": 13,
     "metadata": {},
     "output_type": "execute_result"
    },
    {
     "data": {
      "image/png": "[encoded data removed]",
      "text/plain": [
       "<Figure size 432x288 with 1 Axes>"
      ]
     },
     "metadata": {
      "needs_background": "light"
     },
     "output_type": "display_data"
    }
   ],
   "source": [
    "reconstruct_b = rbm.reconstruct(clip_b)\n",
    "plt.imshow(np.reshape(reconstruct_b,(28,28)),cmap='gray')"
   ]
  }
 ],
 "metadata": {
  "colab": {
   "authorship_tag": "ABX9TyNTEb7fCmLquNGDWG7qvjlM",
   "collapsed_sections": [],
   "mount_file_id": "1u9w9usfZMUdmwXrEMOa4qESwcOZC-J9l",
   "name": "RBM.ipynb",
   "provenance": [],
   "toc_visible": true
  },
  "kernelspec": {
   "display_name": "Python 3",
   "language": "python",
   "name": "python3"
  },
  "language_info": {
   "codemirror_mode": {
    "name": "ipython",
    "version": 3
   },
   "file_extension": ".py",
   "mimetype": "text/x-python",
   "name": "python",
   "nbconvert_exporter": "python",
   "pygments_lexer": "ipython3",
   "version": "3.6.5"
  }
 },
 "nbformat": 4,
 "nbformat_minor": 4
}
